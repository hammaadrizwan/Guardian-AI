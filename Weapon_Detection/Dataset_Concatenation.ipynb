{
 "cells": [
  {
   "cell_type": "markdown",
   "metadata": {},
   "source": [
    "# <center>**Dataset Concatenation**</center>"
   ]
  },
  {
   "cell_type": "code",
   "execution_count": 3,
   "metadata": {},
   "outputs": [],
   "source": [
    "import os"
   ]
  },
  {
   "cell_type": "code",
   "execution_count": 4,
   "metadata": {},
   "outputs": [],
   "source": [
    "def count_files_in_directory(directory):\n",
    "    try:\n",
    "        return len([file for file in os.listdir(directory) if os.path.isfile(os.path.join(directory, file))])\n",
    "    except FileNotFoundError:\n",
    "        print(\"The specified directory does not exist.\")\n",
    "        return None"
   ]
  },
  {
   "cell_type": "code",
   "execution_count": 5,
   "metadata": {},
   "outputs": [
    {
     "name": "stdout",
     "output_type": "stream",
     "text": [
      "Number of files in 'datasets/merged_dataset/train/images': 27651\n"
     ]
    }
   ],
   "source": [
    "path = \"datasets/merged_dataset/train/images\"\n",
    "file_count = count_files_in_directory(path)\n",
    "if file_count is not None:\n",
    "    print(f\"Number of files in '{path}': {file_count}\")"
   ]
  },
  {
   "cell_type": "code",
   "execution_count": 6,
   "metadata": {},
   "outputs": [
    {
     "name": "stdout",
     "output_type": "stream",
     "text": [
      "Number of files in 'datasets/merged_dataset/train/labels': 27609\n"
     ]
    }
   ],
   "source": [
    "path = \"datasets/merged_dataset/train/labels\"\n",
    "file_count = count_files_in_directory(path)\n",
    "if file_count is not None:\n",
    "    print(f\"Number of files in '{path}': {file_count}\")"
   ]
  },
  {
   "cell_type": "code",
   "execution_count": 7,
   "metadata": {},
   "outputs": [
    {
     "name": "stdout",
     "output_type": "stream",
     "text": [
      "Number of files in 'datasets/merged_dataset/valid/images': 1997\n"
     ]
    }
   ],
   "source": [
    "path = \"datasets/merged_dataset/valid/images\"\n",
    "file_count = count_files_in_directory(path)\n",
    "if file_count is not None:\n",
    "    print(f\"Number of files in '{path}': {file_count}\")"
   ]
  },
  {
   "cell_type": "code",
   "execution_count": 8,
   "metadata": {},
   "outputs": [
    {
     "name": "stdout",
     "output_type": "stream",
     "text": [
      "Number of files in 'datasets/merged_dataset/valid/labels': 1992\n"
     ]
    }
   ],
   "source": [
    "path = \"datasets/merged_dataset/valid/labels\"\n",
    "file_count = count_files_in_directory(path)\n",
    "if file_count is not None:\n",
    "    print(f\"Number of files in '{path}': {file_count}\")"
   ]
  },
  {
   "cell_type": "code",
   "execution_count": 9,
   "metadata": {},
   "outputs": [
    {
     "name": "stdout",
     "output_type": "stream",
     "text": [
      "Number of files in 'datasets/merged_dataset/test/images': 349\n"
     ]
    }
   ],
   "source": [
    "path = \"datasets/merged_dataset/test/images\"\n",
    "file_count = count_files_in_directory(path)\n",
    "if file_count is not None:\n",
    "    print(f\"Number of files in '{path}': {file_count}\")"
   ]
  },
  {
   "cell_type": "code",
   "execution_count": 10,
   "metadata": {},
   "outputs": [
    {
     "name": "stdout",
     "output_type": "stream",
     "text": [
      "Number of files in 'datasets/merged_dataset/test/labels': 348\n"
     ]
    }
   ],
   "source": [
    "path = \"datasets/merged_dataset/test/labels\"\n",
    "file_count = count_files_in_directory(path)\n",
    "if file_count is not None:\n",
    "    print(f\"Number of files in '{path}': {file_count}\")"
   ]
  }
 ],
 "metadata": {
  "kernelspec": {
   "display_name": "Python (torch)",
   "language": "python",
   "name": "pytorch"
  },
  "language_info": {
   "codemirror_mode": {
    "name": "ipython",
    "version": 3
   },
   "file_extension": ".py",
   "mimetype": "text/x-python",
   "name": "python",
   "nbconvert_exporter": "python",
   "pygments_lexer": "ipython3",
   "version": "3.12.9"
  }
 },
 "nbformat": 4,
 "nbformat_minor": 2
}
