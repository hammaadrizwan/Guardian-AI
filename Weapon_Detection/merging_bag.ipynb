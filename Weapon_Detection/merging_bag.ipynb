{
 "cells": [
  {
   "cell_type": "code",
   "execution_count": 4,
   "metadata": {},
   "outputs": [],
   "source": [
    "import os\n",
    "import shutil\n",
    "import glob"
   ]
  },
  {
   "cell_type": "markdown",
   "metadata": {},
   "source": [
    "##### Renaming the Bag labels "
   ]
  },
  {
   "cell_type": "code",
   "execution_count": 6,
   "metadata": {},
   "outputs": [],
   "source": [
    "dataset_dirs = [\n",
    "    \"/Users/yenuka/Downloads/EdgeAI/Weapon_Detection/datasets/shopping-3/train/labels\", \n",
    "    \"/Users/yenuka/Downloads/EdgeAI/Weapon_Detection/datasets/shopping-3/valid/labels\", \n",
    "    \"/Users/yenuka/Downloads/EdgeAI/Weapon_Detection/datasets/shopping-3/test/labels\"\n",
    "    ]\n",
    "\n",
    "label_mapping = {\"0\":\"2\",\"1\": \"3\", \"2\": \"4\"}\n",
    "\n",
    "def update_labels(label_path):\n",
    "    with open(label_path, \"r\") as file:\n",
    "        lines = file.readlines()\n",
    "    \n",
    "    new_lines = []\n",
    "    for line in lines:\n",
    "        parts = line.strip().split()\n",
    "        if parts and parts[0] in label_mapping:\n",
    "            parts[0] = label_mapping[parts[0]] \n",
    "        new_lines.append(\" \".join(parts))  \n",
    "    \n",
    "  \n",
    "    with open(label_path, \"w\") as file:\n",
    "        file.write(\"\\n\".join(new_lines) + \"\\n\")\n",
    "\n",
    "\n",
    "for dataset_dir in dataset_dirs:\n",
    "    if os.path.exists(dataset_dir):\n",
    "        label_files = glob.glob(os.path.join(dataset_dir, \"*.txt\"))\n",
    "        for label_file in label_files:\n",
    "            update_labels(label_file)"
   ]
  },
  {
   "cell_type": "markdown",
   "metadata": {},
   "source": [
    "##### Merging the Gun and Bag Dataset"
   ]
  },
  {
   "cell_type": "code",
   "execution_count": 13,
   "metadata": {},
   "outputs": [],
   "source": [
    "def merge_datasets(dataset1, dataset2, merged_dataset):\n",
    "    subsets = ['train', 'valid', 'test']\n",
    "    data_types = ['images', 'labels']  \n",
    "\n",
    "    for subset in subsets:\n",
    "        for dtype in data_types:\n",
    "            src1 = os.path.join(dataset1, subset, dtype)\n",
    "            src2 = os.path.join(dataset2, subset, dtype)\n",
    "            dest = os.path.join(merged_dataset, subset, dtype)\n",
    "\n",
    "            os.makedirs(dest, exist_ok=True)\n",
    "\n",
    "            # Copy files from dataset1 (if exists)\n",
    "            if os.path.exists(src1):\n",
    "                for file in os.listdir(src1):\n",
    "                    shutil.copy(os.path.join(src1, file), os.path.join(dest, file))\n",
    "\n",
    "            # Copy files from dataset2 (if exists)\n",
    "            if os.path.exists(src2):\n",
    "                for file in os.listdir(src2):\n",
    "                    shutil.copy(os.path.join(src2, file), os.path.join(dest, file))\n",
    "\n",
    "            print(f\"Merged {subset}/{dtype}\")"
   ]
  },
  {
   "cell_type": "code",
   "execution_count": 14,
   "metadata": {},
   "outputs": [],
   "source": [
    "dataset1 = \"/Users/yenuka/Downloads/EdgeAI/Weapon_Detection/datasets/shopping-3\"\n",
    "dataset2 = \"/Users/yenuka/Downloads/EdgeAI/Weapon_Detection/datasets/weapon-detection-16\"\n",
    "\n",
    "merged_dataset = \"/Users/yenuka/Downloads/EdgeAI/Weapon_Detection/datasets/merged_dataset\""
   ]
  },
  {
   "cell_type": "code",
   "execution_count": 15,
   "metadata": {},
   "outputs": [
    {
     "name": "stdout",
     "output_type": "stream",
     "text": [
      "Merged train/images\n",
      "Merged train/labels\n",
      "Merged valid/images\n",
      "Merged valid/labels\n",
      "Merged test/images\n",
      "Merged test/labels\n"
     ]
    }
   ],
   "source": [
    "merge_datasets(dataset1, dataset2, merged_dataset)"
   ]
  }
 ],
 "metadata": {
  "kernelspec": {
   "display_name": "pytorch",
   "language": "python",
   "name": "python3"
  },
  "language_info": {
   "codemirror_mode": {
    "name": "ipython",
    "version": 3
   },
   "file_extension": ".py",
   "mimetype": "text/x-python",
   "name": "python",
   "nbconvert_exporter": "python",
   "pygments_lexer": "ipython3",
   "version": "3.12.7"
  }
 },
 "nbformat": 4,
 "nbformat_minor": 2
}
