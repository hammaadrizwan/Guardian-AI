{
 "cells": [
  {
   "cell_type": "code",
   "execution_count": 1,
   "id": "initial_id",
   "metadata": {
    "ExecuteTime": {
     "end_time": "2025-03-13T16:59:22.585070Z",
     "start_time": "2025-03-13T16:59:22.342213Z"
    },
    "collapsed": true
   },
   "outputs": [],
   "source": [
    "from roboflow import Roboflow\n",
    "import os\n",
    "\n",
    "import warnings\n",
    "warnings.filterwarnings(\"ignore\")"
   ]
  },
  {
   "cell_type": "code",
   "execution_count": 2,
   "id": "63dff4517d8d4b88",
   "metadata": {},
   "outputs": [],
   "source": [
    "# defining the API key\n",
    "rf = Roboflow(api_key=\"Id3D3GGsCXSjz5k5axqa\")"
   ]
  },
  {
   "cell_type": "code",
   "execution_count": 3,
   "id": "61683628",
   "metadata": {},
   "outputs": [
    {
     "name": "stdout",
     "output_type": "stream",
     "text": [
      "loading Roboflow workspace...\n",
      "loading Roboflow project...\n"
     ]
    }
   ],
   "source": [
    "# defining the roboflow project\n",
    "project = rf.workspace(\"testworking\").project(\"shopping-3p7xz\")             "
   ]
  },
  {
   "cell_type": "code",
   "execution_count": 4,
   "id": "d189e888",
   "metadata": {},
   "outputs": [
    {
     "name": "stderr",
     "output_type": "stream",
     "text": [
      "Downloading Dataset Version Zip in shopping-3 to yolov8:: 100%|██████████| 478980/478980 [02:12<00:00, 3610.14it/s]"
     ]
    },
    {
     "name": "stdout",
     "output_type": "stream",
     "text": [
      "\n"
     ]
    },
    {
     "name": "stderr",
     "output_type": "stream",
     "text": [
      "\n",
      "Extracting Dataset Version Zip to shopping-3 in yolov8:: 100%|██████████| 16823/16823 [00:01<00:00, 8438.71it/s]\n"
     ]
    }
   ],
   "source": [
    "version = project.version(3)\n",
    "dataset = version.download(\"yolov8\")"
   ]
  },
  {
   "cell_type": "code",
   "execution_count": 5,
   "id": "e65009ce",
   "metadata": {},
   "outputs": [],
   "source": [
    "import shutil"
   ]
  },
  {
   "cell_type": "code",
   "execution_count": 6,
   "id": "288bcdb8",
   "metadata": {},
   "outputs": [
    {
     "data": {
      "text/plain": [
       "'/Users/yenuka/Downloads/EdgeAI/Weapon_Detection'"
      ]
     },
     "execution_count": 6,
     "metadata": {},
     "output_type": "execute_result"
    }
   ],
   "source": [
    "current_dir = os.getcwd()\n",
    "current_dir"
   ]
  },
  {
   "cell_type": "code",
   "execution_count": 7,
   "id": "c3760764",
   "metadata": {},
   "outputs": [],
   "source": [
    "dataset_folder = os.path.join(current_dir, \"datasets\")\n",
    "if not os.path.exists(dataset_folder):\n",
    "    os.makedirs(dataset_folder)"
   ]
  },
  {
   "cell_type": "code",
   "execution_count": 8,
   "id": "1e39fcda",
   "metadata": {},
   "outputs": [
    {
     "data": {
      "text/plain": [
       "'/Users/yenuka/Downloads/EdgeAI/Weapon_Detection/datasets/shopping-3'"
      ]
     },
     "execution_count": 8,
     "metadata": {},
     "output_type": "execute_result"
    }
   ],
   "source": [
    "shutil.move(os.path.join(current_dir, \"shopping-3\"), dataset_folder)"
   ]
  },
  {
   "cell_type": "code",
   "execution_count": 9,
   "id": "a5c5fa2e",
   "metadata": {},
   "outputs": [],
   "source": [
    "from collections import Counter"
   ]
  },
  {
   "cell_type": "code",
   "execution_count": 10,
   "id": "c66b560e",
   "metadata": {},
   "outputs": [],
   "source": [
    "def count_classes_in_yolo_labels(directory):\n",
    "    class_counts = Counter()\n",
    "    \n",
    "    for filename in os.listdir(directory):\n",
    "        if filename.endswith(\".txt\"):\n",
    "            filepath = os.path.join(directory, filename)\n",
    "            with open(filepath, \"r\") as file:\n",
    "                for line in file:\n",
    "                    class_id = line.split()[0]  # Extract the first value (class ID)\n",
    "                    class_counts[class_id] += 1\n",
    "\n",
    "    return class_counts"
   ]
  },
  {
   "cell_type": "code",
   "execution_count": 11,
   "id": "0724c092",
   "metadata": {},
   "outputs": [
    {
     "name": "stdout",
     "output_type": "stream",
     "text": [
      "Class counts in train labels:\n",
      "Counter({'2': 3132, '1': 2985, '0': 2742})\n"
     ]
    }
   ],
   "source": [
    "train_dir = \"datasets/shopping-3/train/labels\"\n",
    "train_class_counts = count_classes_in_yolo_labels(train_dir)\n",
    "print(\"Class counts in train labels:\")\n",
    "print(train_class_counts)"
   ]
  },
  {
   "cell_type": "code",
   "execution_count": 12,
   "id": "77cbcb0d",
   "metadata": {},
   "outputs": [
    {
     "name": "stdout",
     "output_type": "stream",
     "text": [
      "\n",
      "Class counts in validation labels:\n",
      "Counter({'1': 300, '2': 286, '0': 258})\n"
     ]
    }
   ],
   "source": [
    "validation_dir = \"datasets/shopping-3/valid/labels\"\n",
    "validation_class_counts = count_classes_in_yolo_labels(validation_dir)\n",
    "print(\"\\nClass counts in validation labels:\")\n",
    "print(validation_class_counts)"
   ]
  },
  {
   "cell_type": "code",
   "execution_count": 13,
   "id": "da813c97",
   "metadata": {},
   "outputs": [
    {
     "name": "stdout",
     "output_type": "stream",
     "text": [
      "\n",
      "Class counts in test labels:\n",
      "Counter({'2': 151, '1': 149, '0': 129})\n"
     ]
    }
   ],
   "source": [
    "test_dir = \"datasets/shopping-3/test/labels\"\n",
    "test_class_counts = count_classes_in_yolo_labels(test_dir)\n",
    "print(\"\\nClass counts in test labels:\")\n",
    "print(test_class_counts)"
   ]
  }
 ],
 "metadata": {
  "kernelspec": {
   "display_name": "pytorch",
   "language": "python",
   "name": "python3"
  },
  "language_info": {
   "codemirror_mode": {
    "name": "ipython",
    "version": 3
   },
   "file_extension": ".py",
   "mimetype": "text/x-python",
   "name": "python",
   "nbconvert_exporter": "python",
   "pygments_lexer": "ipython3",
   "version": "3.12.7"
  }
 },
 "nbformat": 4,
 "nbformat_minor": 5
}
