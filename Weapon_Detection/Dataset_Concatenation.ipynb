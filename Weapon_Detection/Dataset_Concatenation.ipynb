{
 "cells": [
  {
   "cell_type": "markdown",
   "metadata": {},
   "source": [
    "# <center>**Dataset Concatenation**</center>"
   ]
  },
  {
   "cell_type": "code",
   "execution_count": 27,
   "metadata": {},
   "outputs": [],
   "source": [
    "import os"
   ]
  },
  {
   "cell_type": "code",
   "execution_count": 28,
   "metadata": {},
   "outputs": [],
   "source": [
    "def count_files_in_directory(directory):\n",
    "    try:\n",
    "        return len([file for file in os.listdir(directory) if os.path.isfile(os.path.join(directory, file))])\n",
    "    except FileNotFoundError:\n",
    "        print(\"The specified directory does not exist.\")\n",
    "        return None"
   ]
  },
  {
   "cell_type": "code",
   "execution_count": 29,
   "metadata": {},
   "outputs": [
    {
     "name": "stdout",
     "output_type": "stream",
     "text": [
      "Number of files in 'datasets/merged_dataset/train/images': 27651\n"
     ]
    }
   ],
   "source": [
    "path = \"datasets/merged_dataset/train/images\"\n",
    "file_count = count_files_in_directory(path)\n",
    "if file_count is not None:\n",
    "    print(f\"Number of files in '{path}': {file_count}\")"
   ]
  },
  {
   "cell_type": "code",
   "execution_count": 30,
   "metadata": {},
   "outputs": [
    {
     "name": "stdout",
     "output_type": "stream",
     "text": [
      "Number of files in 'datasets/merged_dataset/train/labels': 27651\n"
     ]
    }
   ],
   "source": [
    "path = \"datasets/merged_dataset/train/labels\"\n",
    "file_count = count_files_in_directory(path)\n",
    "if file_count is not None:\n",
    "    print(f\"Number of files in '{path}': {file_count}\")"
   ]
  },
  {
   "cell_type": "code",
   "execution_count": 31,
   "metadata": {},
   "outputs": [
    {
     "name": "stdout",
     "output_type": "stream",
     "text": [
      "Number of files in 'datasets/merged_dataset/valid/images': 1997\n"
     ]
    }
   ],
   "source": [
    "path = \"datasets/merged_dataset/valid/images\"\n",
    "file_count = count_files_in_directory(path)\n",
    "if file_count is not None:\n",
    "    print(f\"Number of files in '{path}': {file_count}\")"
   ]
  },
  {
   "cell_type": "code",
   "execution_count": 32,
   "metadata": {},
   "outputs": [
    {
     "name": "stdout",
     "output_type": "stream",
     "text": [
      "Number of files in 'datasets/merged_dataset/valid/labels': 1997\n"
     ]
    }
   ],
   "source": [
    "path = \"datasets/merged_dataset/valid/labels\"\n",
    "file_count = count_files_in_directory(path)\n",
    "if file_count is not None:\n",
    "    print(f\"Number of files in '{path}': {file_count}\")"
   ]
  },
  {
   "cell_type": "code",
   "execution_count": 33,
   "metadata": {},
   "outputs": [
    {
     "name": "stdout",
     "output_type": "stream",
     "text": [
      "Number of files in 'datasets/merged_dataset/test/images': 349\n"
     ]
    }
   ],
   "source": [
    "path = \"datasets/merged_dataset/test/images\"\n",
    "file_count = count_files_in_directory(path)\n",
    "if file_count is not None:\n",
    "    print(f\"Number of files in '{path}': {file_count}\")"
   ]
  },
  {
   "cell_type": "code",
   "execution_count": 34,
   "metadata": {},
   "outputs": [
    {
     "name": "stdout",
     "output_type": "stream",
     "text": [
      "Number of files in 'datasets/merged_dataset/test/labels': 349\n"
     ]
    }
   ],
   "source": [
    "path = \"datasets/merged_dataset/test/labels\"\n",
    "file_count = count_files_in_directory(path)\n",
    "if file_count is not None:\n",
    "    print(f\"Number of files in '{path}': {file_count}\")"
   ]
  }
 ],
 "metadata": {
  "kernelspec": {
   "display_name": "pytorch",
   "language": "python",
   "name": "python3"
  },
  "language_info": {
   "codemirror_mode": {
    "name": "ipython",
    "version": 3
   },
   "file_extension": ".py",
   "mimetype": "text/x-python",
   "name": "python",
   "nbconvert_exporter": "python",
   "pygments_lexer": "ipython3",
   "version": "3.12.7"
  }
 },
 "nbformat": 4,
 "nbformat_minor": 2
}
