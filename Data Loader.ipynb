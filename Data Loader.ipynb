{
 "cells": [
  {
   "cell_type": "code",
   "execution_count": 6,
   "id": "initial_id",
   "metadata": {
    "ExecuteTime": {
     "end_time": "2025-03-13T16:59:22.585070Z",
     "start_time": "2025-03-13T16:59:22.342213Z"
    },
    "collapsed": true
   },
   "outputs": [],
   "source": [
    "from roboflow import Roboflow\n",
    "import os\n",
    "\n",
    "import warnings\n",
    "warnings.filterwarnings(\"ignore\")"
   ]
  },
  {
   "cell_type": "code",
   "execution_count": null,
   "id": "63dff4517d8d4b88",
   "metadata": {},
   "outputs": [],
   "source": [
    "# defining the API key\n",
    "rf = Roboflow(api_key=\"Id3D3GGsCXSjz5k5axqa\")"
   ]
  },
  {
   "cell_type": "code",
   "execution_count": 8,
   "id": "61683628",
   "metadata": {},
   "outputs": [
    {
     "name": "stdout",
     "output_type": "stream",
     "text": [
      "loading Roboflow workspace...\n",
      "loading Roboflow project...\n"
     ]
    }
   ],
   "source": [
    "# defining the roboflow project\n",
    "project = rf.workspace(\"testworking\").project(\"shopping-3p7xz\")             "
   ]
  },
  {
   "cell_type": "code",
   "execution_count": 9,
   "id": "d189e888",
   "metadata": {},
   "outputs": [
    {
     "name": "stderr",
     "output_type": "stream",
     "text": [
      "Downloading Dataset Version Zip in shopping-3 to yolov8:: 100%|██████████| 478980/478980 [03:50<00:00, 2078.52it/s]"
     ]
    },
    {
     "name": "stdout",
     "output_type": "stream",
     "text": [
      "\n"
     ]
    },
    {
     "name": "stderr",
     "output_type": "stream",
     "text": [
      "\n",
      "Extracting Dataset Version Zip to shopping-3 in yolov8:: 100%|██████████| 16823/16823 [00:06<00:00, 2659.23it/s]\n"
     ]
    }
   ],
   "source": [
    "version = project.version(3)\n",
    "dataset = version.download(\"yolov8\")"
   ]
  }
 ],
 "metadata": {
  "kernelspec": {
   "display_name": "Python 3",
   "language": "python",
   "name": "python3"
  },
  "language_info": {
   "codemirror_mode": {
    "name": "ipython",
    "version": 3
   },
   "file_extension": ".py",
   "mimetype": "text/x-python",
   "name": "python",
   "nbconvert_exporter": "python",
   "pygments_lexer": "ipython3",
   "version": "3.10.0"
  }
 },
 "nbformat": 4,
 "nbformat_minor": 5
}
