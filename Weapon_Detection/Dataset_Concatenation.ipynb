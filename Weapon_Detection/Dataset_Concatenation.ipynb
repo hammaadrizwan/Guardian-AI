{
 "cells": [
  {
   "cell_type": "markdown",
   "metadata": {},
   "source": [
    "# <center>**Dataset Concatenation**</center>"
   ]
  },
  {
   "cell_type": "markdown",
   "metadata": {},
   "source": [
    "### Change the class of the images in new dataset"
   ]
  },
  {
   "cell_type": "code",
   "execution_count": 1,
   "metadata": {},
   "outputs": [],
   "source": [
    "import os"
   ]
  },
  {
   "cell_type": "code",
   "execution_count": 2,
   "metadata": {},
   "outputs": [],
   "source": [
    "def update_class_labels(dataset_path, new_class_id):\n",
    "    \"\"\"\n",
    "    Iterates through train, val, and test/labels folders, modifies class IDs, and saves changes.\n",
    "    \n",
    "    :param new_dataset_path: Path to the dataset folder.\n",
    "    :param new_class_id: The new class ID to replace existing ones.\n",
    "    \"\"\"\n",
    "    subsets = [\"train\", \"valid\", \"test\"]  # The dataset subsets\n",
    "    new_class_id = str(new_class_id)  # Ensure it's a string for consistency\n",
    "\n",
    "    for subset in subsets:\n",
    "        labels_path = os.path.join(dataset_path, subset, \"labels\")  # Path to labels folder\n",
    "        if not os.path.exists(labels_path):\n",
    "            print(f\"Skipping {labels_path}, does not exist.\")\n",
    "            continue  # Skip if the folder doesn't exist\n",
    "\n",
    "        for filename in os.listdir(labels_path):\n",
    "            if filename.endswith(\".txt\"):\n",
    "                file_path = os.path.join(labels_path, filename)\n",
    "\n",
    "                # Read and modify the file\n",
    "                with open(file_path, \"r\") as file:\n",
    "                    lines = file.readlines()\n",
    "\n",
    "                # Modify class IDs\n",
    "                updated_lines = []\n",
    "                for line in lines:\n",
    "                    parts = line.split()\n",
    "                    if parts:  \n",
    "                        parts[0] = new_class_id  # Change the class ID\n",
    "                        updated_lines.append(\" \".join(parts) + \"\\n\")\n",
    "\n",
    "                # Write back the modified content\n",
    "                with open(file_path, \"w\") as file:\n",
    "                    file.writelines(updated_lines)\n",
    "\n",
    "                # print(f\"Updated class in {file_path}\")"
   ]
  },
  {
   "cell_type": "code",
   "execution_count": 3,
   "metadata": {},
   "outputs": [],
   "source": [
    "dataset_path = \"datasets/DETECT-7\""
   ]
  },
  {
   "cell_type": "code",
   "execution_count": 4,
   "metadata": {},
   "outputs": [],
   "source": [
    "new_class_id = 2 # change to the new class value\n",
    "update_class_labels(dataset_path, new_class_id)"
   ]
  },
  {
   "cell_type": "code",
   "execution_count": null,
   "metadata": {},
   "outputs": [],
   "source": []
  },
  {
   "cell_type": "markdown",
   "metadata": {},
   "source": [
    "### Dataset Concatenation Check"
   ]
  },
  {
   "cell_type": "code",
   "execution_count": 1,
   "metadata": {},
   "outputs": [],
   "source": [
    "import os"
   ]
  },
  {
   "cell_type": "code",
   "execution_count": 2,
   "metadata": {},
   "outputs": [],
   "source": [
    "def count_files_in_directory(directory):\n",
    "    try:\n",
    "        return len([file for file in os.listdir(directory) if os.path.isfile(os.path.join(directory, file))])\n",
    "    except FileNotFoundError:\n",
    "        print(\"The specified directory does not exist.\")\n",
    "        return None"
   ]
  },
  {
   "cell_type": "code",
   "execution_count": 3,
   "metadata": {},
   "outputs": [
    {
     "name": "stdout",
     "output_type": "stream",
     "text": [
      "Number of files in 'datasets/weapon-detection-16/train/images': 11227\n"
     ]
    }
   ],
   "source": [
    "path = \"datasets/weapon-detection-16/train/images\"\n",
    "file_count = count_files_in_directory(path)\n",
    "if file_count is not None:\n",
    "    print(f\"Number of files in '{path}': {file_count}\")"
   ]
  },
  {
   "cell_type": "code",
   "execution_count": 4,
   "metadata": {},
   "outputs": [
    {
     "name": "stdout",
     "output_type": "stream",
     "text": [
      "Number of files in 'datasets/weapon-detection-16/train/labels': 11227\n"
     ]
    }
   ],
   "source": [
    "path = \"datasets/weapon-detection-16/train/labels\"\n",
    "file_count = count_files_in_directory(path)\n",
    "if file_count is not None:\n",
    "    print(f\"Number of files in '{path}': {file_count}\")"
   ]
  },
  {
   "cell_type": "code",
   "execution_count": 5,
   "metadata": {},
   "outputs": [
    {
     "name": "stdout",
     "output_type": "stream",
     "text": [
      "Number of files in 'datasets/weapon-detection-16/valid/images': 1576\n"
     ]
    }
   ],
   "source": [
    "path = \"datasets/weapon-detection-16/valid/images\"\n",
    "file_count = count_files_in_directory(path)\n",
    "if file_count is not None:\n",
    "    print(f\"Number of files in '{path}': {file_count}\")"
   ]
  },
  {
   "cell_type": "code",
   "execution_count": 6,
   "metadata": {},
   "outputs": [
    {
     "name": "stdout",
     "output_type": "stream",
     "text": [
      "Number of files in 'datasets/weapon-detection-16/valid/labels': 1576\n"
     ]
    }
   ],
   "source": [
    "path = \"datasets/weapon-detection-16/valid/labels\"\n",
    "file_count = count_files_in_directory(path)\n",
    "if file_count is not None:\n",
    "    print(f\"Number of files in '{path}': {file_count}\")"
   ]
  },
  {
   "cell_type": "code",
   "execution_count": null,
   "metadata": {},
   "outputs": [],
   "source": []
  }
 ],
 "metadata": {
  "kernelspec": {
   "display_name": "venv_3_11_11",
   "language": "python",
   "name": "python3"
  },
  "language_info": {
   "codemirror_mode": {
    "name": "ipython",
    "version": 3
   },
   "file_extension": ".py",
   "mimetype": "text/x-python",
   "name": "python",
   "nbconvert_exporter": "python",
   "pygments_lexer": "ipython3",
   "version": "3.11.11"
  }
 },
 "nbformat": 4,
 "nbformat_minor": 2
}
