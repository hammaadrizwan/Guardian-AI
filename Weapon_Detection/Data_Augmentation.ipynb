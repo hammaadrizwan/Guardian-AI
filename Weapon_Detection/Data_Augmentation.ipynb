{
 "cells": [
  {
   "cell_type": "markdown",
   "metadata": {},
   "source": [
    "# <center>**Data Augmentation**</center>"
   ]
  },
  {
   "cell_type": "code",
   "execution_count": 1,
   "metadata": {},
   "outputs": [],
   "source": [
    "import os\n",
    "import cv2\n",
    "import numpy as np\n",
    "import albumentations as A\n",
    "\n",
    "from collections import Counter"
   ]
  },
  {
   "cell_type": "code",
   "execution_count": 2,
   "metadata": {},
   "outputs": [],
   "source": [
    "# Define the paths of the train labels and the train images\n",
    "train_images_path = \"datasets/weapon-detection-16/train/images\"\n",
    "train_labels_path = \"datasets/weapon-detection-16/train/labels\""
   ]
  },
  {
   "cell_type": "code",
   "execution_count": null,
   "metadata": {},
   "outputs": [],
   "source": [
    "# Define the augmentation pipeline\n",
    "transform = A.Compose([\n",
    "    A.HorizontalFlip(p=0.5), # flip horizontally with 50% chance\n",
    "    A.VerticalFlip(p=0.2), # flip vertically with 20% chance\n",
    "    A.Rotate(limit=20, p=0.5), rotate randomly with a limit of 20 degrees\n",
    "    A.RandomBrightnessContrast(p=0.5), # apply random brightness and contrast with 50% chance\n",
    "    A.GaussianBlur(p=0.3), # apply gaussian blur with 30% chance to reduce noise\n",
    "    A.Resize(640, 640), # resize images back to 640x640 to maintain yolov8 size\n",
    "], bbox_params=A.BboxParams(format=\"yolo\", label_fields=[\"class_labels\"]))"
   ]
  },
  {
   "cell_type": "code",
   "execution_count": 4,
   "metadata": {},
   "outputs": [],
   "source": [
    "# Function to read YOLO labels\n",
    "def read_yolo_labels(label_path):\n",
    "    with open(label_path, \"r\") as f:\n",
    "        labels = [line.strip().split() for line in f.readlines()]\n",
    "    return labels"
   ]
  },
  {
   "cell_type": "code",
   "execution_count": 5,
   "metadata": {},
   "outputs": [],
   "source": [
    "# Function to write YOLO labels\n",
    "def write_yolo_labels(label_path, labels):\n",
    "    with open(label_path, \"w\") as f:\n",
    "        for label in labels:\n",
    "            f.write(\" \".join(map(str, label)) + \"\\n\")"
   ]
  },
  {
   "cell_type": "code",
   "execution_count": 6,
   "metadata": {},
   "outputs": [],
   "source": [
    "# Get all images and labels\n",
    "image_files = [f for f in os.listdir(train_images_path) if f.endswith(\".jpg\") or f.endswith(\".png\")]"
   ]
  },
  {
   "cell_type": "code",
   "execution_count": 7,
   "metadata": {},
   "outputs": [],
   "source": [
    "# Augment only images that contain ONLY pistols (Class 0)\n",
    "augmentation_count = 3  # Number of times to augment each pistol-only image"
   ]
  },
  {
   "cell_type": "code",
   "execution_count": 8,
   "metadata": {},
   "outputs": [
    {
     "name": "stdout",
     "output_type": "stream",
     "text": [
      "Data augmentation done for pistol- only images!\n"
     ]
    }
   ],
   "source": [
    "for img_file in image_files:\n",
    "    label_file = img_file.replace(\".jpg\", \".txt\").replace(\".png\", \".txt\")\n",
    "    label_path = os.path.join(train_labels_path, label_file)\n",
    "\n",
    "    if not os.path.exists(label_path):\n",
    "        continue\n",
    "\n",
    "    labels = read_yolo_labels(label_path)\n",
    "\n",
    "    # Check if the image contains only pistols (Class 0) and no heavy guns (Class 1)\n",
    "    class_ids = {int(line[0]) for line in labels}  # Extract unique class IDs from labels\n",
    "    if class_ids != {0}:  # If there's anything other than class 0, skip the image\n",
    "        continue\n",
    "\n",
    "    img_path = os.path.join(train_images_path, img_file)\n",
    "    img = cv2.imread(img_path)\n",
    "    height, width, _ = img.shape\n",
    "\n",
    "    # Convert YOLO bbox to pixel coordinates\n",
    "    bbox_list = []\n",
    "    class_labels = []\n",
    "    for line in labels:\n",
    "        class_id, x, y, w, h = map(float, line)\n",
    "        bbox_list.append([x, y, w, h])\n",
    "        class_labels.append(int(class_id))\n",
    "\n",
    "    # Generate multiple augmented images per pistol-only image\n",
    "    for i in range(augmentation_count):\n",
    "        augmented = transform(image=img, bboxes=bbox_list, class_labels=class_labels)\n",
    "        augmented_img = augmented[\"image\"]\n",
    "        augmented_bboxes = augmented[\"bboxes\"]\n",
    "\n",
    "        # Save augmented image\n",
    "        aug_img_name = f\"aug_{i}_{img_file}\"\n",
    "        aug_img_path = os.path.join(train_images_path, aug_img_name)\n",
    "        cv2.imwrite(aug_img_path, augmented_img)\n",
    "\n",
    "        # Convert back to YOLO format and save labels\n",
    "        final_labels = [[class_labels[idx]] + list(bbox) for idx, bbox in enumerate(augmented_bboxes)]\n",
    "        aug_label_name = f\"aug_{i}_{label_file}\"\n",
    "        aug_label_path = os.path.join(train_labels_path, aug_label_name)\n",
    "        write_yolo_labels(aug_label_path, final_labels)\n",
    "\n",
    "print('Data augmentation done for pistol- only images!')"
   ]
  },
  {
   "cell_type": "code",
   "execution_count": 9,
   "metadata": {},
   "outputs": [],
   "source": [
    "def count_classes_in_yolo_labels(directory):\n",
    "    class_counts = Counter()\n",
    "    \n",
    "    for filename in os.listdir(directory):\n",
    "        if filename.endswith(\".txt\"):\n",
    "            filepath = os.path.join(directory, filename)\n",
    "            with open(filepath, \"r\") as file:\n",
    "                for line in file:\n",
    "                    class_id = line.split()[0]  # Extract the first value (class ID)\n",
    "                    class_counts[class_id] += 1\n",
    "\n",
    "    return class_counts"
   ]
  },
  {
   "cell_type": "code",
   "execution_count": 10,
   "metadata": {},
   "outputs": [
    {
     "name": "stdout",
     "output_type": "stream",
     "text": [
      "Class counts in train labels:\n",
      "Counter({'1': 10659, '0': 10222})\n"
     ]
    }
   ],
   "source": [
    "train_dir = \"datasets/weapon-detection-16/train/labels\"\n",
    "train_class_counts = count_classes_in_yolo_labels(train_dir)\n",
    "print(\"Class counts in train labels:\")\n",
    "print(train_class_counts)"
   ]
  },
  {
   "cell_type": "code",
   "execution_count": 11,
   "metadata": {},
   "outputs": [
    {
     "name": "stdout",
     "output_type": "stream",
     "text": [
      "\n",
      "Class counts in validation labels:\n",
      "Counter({'1': 919, '0': 396})\n"
     ]
    }
   ],
   "source": [
    "validation_dir = \"datasets/weapon-detection-16/valid/labels\"\n",
    "validation_class_counts = count_classes_in_yolo_labels(validation_dir)\n",
    "print(\"\\nClass counts in validation labels:\")\n",
    "print(validation_class_counts)"
   ]
  },
  {
   "cell_type": "code",
   "execution_count": null,
   "metadata": {},
   "outputs": [],
   "source": []
  }
 ],
 "metadata": {
  "kernelspec": {
   "display_name": "venv_3_11_11",
   "language": "python",
   "name": "python3"
  },
  "language_info": {
   "codemirror_mode": {
    "name": "ipython",
    "version": 3
   },
   "file_extension": ".py",
   "mimetype": "text/x-python",
   "name": "python",
   "nbconvert_exporter": "python",
   "pygments_lexer": "ipython3",
   "version": "3.11.11"
  }
 },
 "nbformat": 4,
 "nbformat_minor": 2
}
