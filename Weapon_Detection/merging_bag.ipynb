{
 "cells": [
  {
   "cell_type": "code",
   "execution_count": 7,
   "metadata": {},
   "outputs": [],
   "source": [
    "import os\n",
    "import shutil\n",
    "import glob"
   ]
  },
  {
   "cell_type": "markdown",
   "metadata": {},
   "source": [
    "##### Renaming the Bag labels "
   ]
  },
  {
   "cell_type": "code",
   "execution_count": 8,
   "metadata": {},
   "outputs": [],
   "source": [
    "# dataset_dirs = [\n",
    "#     \"C:/Users/yenukar/Documents/EdgeAI/Weapon_Detection/datasets/shopping-3/train/labels\",\n",
    "#     \"C:/Users/yenukar/Documents/EdgeAI/Weapon_Detection/datasets/shopping-3/valid/labels\",\n",
    "#     \"C:/Users/yenukar/Documents/EdgeAI/Weapon_Detection/datasets/shopping-3/test/labels\",\n",
    "#     ]\n",
    "\n",
    "# label_mapping = {\"0\": \"2\", \"1\": \"2\", \"2\": \"2\"}\n",
    "\n",
    "# def update_labels(label_path):\n",
    "#     with open(label_path, \"r\") as file:\n",
    "#         lines = file.readlines()\n",
    "    \n",
    "#     new_lines = []\n",
    "#     for line in lines:\n",
    "#         parts = line.strip().split()\n",
    "#         if len(parts) > 1 and parts[0] in label_mapping: \n",
    "#             parts[0] = label_mapping[parts[0]] \n",
    "#             new_lines.append(\" \".join(parts)) \n",
    "\n",
    "#     if new_lines:  \n",
    "#         with open(label_path, \"w\") as file:\n",
    "#             file.write(\"\\n\".join(new_lines) + \"\\n\")\n",
    "#     else:\n",
    "#         os.remove(label_path) \n",
    "\n",
    "# for dataset_dir in dataset_dirs:\n",
    "#     if os.path.exists(dataset_dir):\n",
    "#         label_files = glob.glob(os.path.join(dataset_dir, \"*.txt\"))\n",
    "#         for label_file in label_files:\n",
    "#             update_labels(label_file)"
   ]
  },
  {
   "cell_type": "markdown",
   "metadata": {},
   "source": [
    "##### Merging the Gun and Bag Dataset"
   ]
  },
  {
   "cell_type": "code",
   "execution_count": 9,
   "metadata": {},
   "outputs": [],
   "source": [
    "def merge_datasets(dataset1, dataset2, merged_dataset):\n",
    "    subsets = ['train', 'valid', 'test']\n",
    "    data_types = ['images', 'labels']  \n",
    "\n",
    "    for subset in subsets:\n",
    "        for dtype in data_types:\n",
    "            src1 = os.path.join(dataset1, subset, dtype)\n",
    "            src2 = os.path.join(dataset2, subset, dtype)\n",
    "            dest = os.path.join(merged_dataset, subset, dtype)\n",
    "\n",
    "            os.makedirs(dest, exist_ok=True)\n",
    "\n",
    "            if os.path.exists(src1):\n",
    "                for file in os.listdir(src1):\n",
    "                    shutil.copy(os.path.join(src1, file), os.path.join(dest, file))\n",
    "\n",
    "            if os.path.exists(src2):\n",
    "                for file in os.listdir(src2):\n",
    "                    shutil.copy(os.path.join(src2, file), os.path.join(dest, file))\n",
    "\n",
    "            print(f\"Merged {subset}/{dtype}\")"
   ]
  },
  {
   "cell_type": "code",
   "execution_count": 10,
   "metadata": {},
   "outputs": [],
   "source": [
    "dataset1 = \"C:/Users/yenukar/Documents/EdgeAI/Weapon_Detection/datasets/shopping-3\"\n",
    "dataset2 = \"C:/Users/yenukar/Documents/EdgeAI/Weapon_Detection/datasets/weapon-detection-16\"\n",
    "\n",
    "merged_dataset = \"C:/Users/yenukar/Documents/EdgeAI/Weapon_Detection/datasets/merged_dataset\""
   ]
  },
  {
   "cell_type": "code",
   "execution_count": 11,
   "metadata": {},
   "outputs": [
    {
     "name": "stdout",
     "output_type": "stream",
     "text": [
      "Merged train/images\n",
      "Merged train/labels\n",
      "Merged valid/images\n",
      "Merged valid/labels\n",
      "Merged test/images\n",
      "Merged test/labels\n"
     ]
    }
   ],
   "source": [
    "merge_datasets(dataset1, dataset2, merged_dataset)"
   ]
  }
 ],
 "metadata": {
  "kernelspec": {
   "display_name": "Python (torch)",
   "language": "python",
   "name": "pytorch"
  },
  "language_info": {
   "codemirror_mode": {
    "name": "ipython",
    "version": 3
   },
   "file_extension": ".py",
   "mimetype": "text/x-python",
   "name": "python",
   "nbconvert_exporter": "python",
   "pygments_lexer": "ipython3",
   "version": "3.12.9"
  }
 },
 "nbformat": 4,
 "nbformat_minor": 2
}
